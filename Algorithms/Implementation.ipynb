{
 "cells": [
  {
   "cell_type": "markdown",
   "metadata": {},
   "source": [
    "## [Grading Students](https://www.hackerrank.com/challenges/grading/problem)"
   ]
  },
  {
   "cell_type": "code",
   "execution_count": 1,
   "metadata": {
    "collapsed": false
   },
   "outputs": [
    {
     "name": "stdout",
     "output_type": "stream",
     "text": [
      "4\n",
      "73\n",
      "67\n",
      "38\n",
      "33\n",
      "Results:\n",
      "75\n",
      "67\n",
      "40\n",
      "33\n"
     ]
    }
   ],
   "source": [
    "import sys\n",
    "def round_to_next5(n):\n",
    "    return n + (5 - n) % 5\n",
    "\n",
    "def solve(grades):\n",
    "    results = []\n",
    "    for grade in grades:\n",
    "        if grade < 38:\n",
    "            results.append(grade)\n",
    "        elif abs(grade - round_to_next5(grade)) < 3:\n",
    "            results.append(round_to_next5(grade))\n",
    "        else:\n",
    "            results.append(grade)\n",
    "    return results\n",
    "\n",
    "n = int(input().strip())\n",
    "grades = []\n",
    "grades_i = 0\n",
    "for grades_i in range(n):\n",
    "   grades_t = int(input().strip())\n",
    "   grades.append(grades_t)\n",
    "result = solve(grades)\n",
    "print(\"Results:\")\n",
    "print (\"\\n\".join(map(str, result)))"
   ]
  },
  {
   "cell_type": "markdown",
   "metadata": {},
   "source": [
    "---\n",
    "## [Apple and Orange](https://www.hackerrank.com/challenges/apple-and-orange/problem)"
   ]
  },
  {
   "cell_type": "code",
   "execution_count": 7,
   "metadata": {
    "collapsed": false
   },
   "outputs": [
    {
     "name": "stdout",
     "output_type": "stream",
     "text": [
      "7 11\n",
      "5 15\n",
      "3 2\n",
      "-2 2 1\n",
      "5 -6\n",
      "1\n",
      "1\n"
     ]
    }
   ],
   "source": [
    "import sys\n",
    "\n",
    "\n",
    "s,t = input().strip().split(' ')\n",
    "s,t = [int(s),int(t)]\n",
    "a,b = input().strip().split(' ')\n",
    "a,b = [int(a),int(b)]\n",
    "m,n = input().strip().split(' ')\n",
    "m,n = [int(m),int(n)]\n",
    "apple = [int(apple_temp) for apple_temp in input().strip().split(' ')]\n",
    "orange = [int(orange_temp) for orange_temp in input().strip().split(' ')]\n",
    "\n",
    "apple_count, orange_count = 0, 0\n",
    "\n",
    "for item in apple:\n",
    "    if s <= a + item <= t:\n",
    "        apple_count += 1\n",
    "\n",
    "for item in orange:\n",
    "    if s <= b + item <= t:\n",
    "        orange_count += 1\n",
    "\n",
    "print(apple_count)\n",
    "print(orange_count)"
   ]
  },
  {
   "cell_type": "markdown",
   "metadata": {},
   "source": [
    "---\n",
    "## [Kangaroo](https://www.hackerrank.com/challenges/kangaroo/problem)"
   ]
  },
  {
   "cell_type": "code",
   "execution_count": 1,
   "metadata": {
    "collapsed": false
   },
   "outputs": [
    {
     "name": "stdout",
     "output_type": "stream",
     "text": [
      "0 3 4 2\n",
      "YES\n"
     ]
    }
   ],
   "source": [
    "import sys\n",
    "\n",
    "def kangaroo(x1, v1, x2, v2):\n",
    "    if x1 == x2 and v1 == v2:\n",
    "        return \"YES\"\n",
    "    elif x1 == x2 and v1 > v2:\n",
    "        return \"NO\"\n",
    "    elif x1 <= x2 and v1 <= v2:\n",
    "        return \"NO\"\n",
    "    else:\n",
    "        if (x2 - x1) % (v1 - v2) == 0:\n",
    "            return \"YES\"\n",
    "        else:\n",
    "            return \"NO\"\n",
    "\n",
    "x1, v1, x2, v2 = input().strip().split(' ')\n",
    "x1, v1, x2, v2 = [int(x1), int(v1), int(x2), int(v2)]\n",
    "result = kangaroo(x1, v1, x2, v2)\n",
    "print(result)"
   ]
  },
  {
   "cell_type": "markdown",
   "metadata": {
    "collapsed": true
   },
   "source": [
    "---\n",
    "## [Between Two Sets](https://www.hackerrank.com/challenges/between-two-sets/problem)"
   ]
  },
  {
   "cell_type": "code",
   "execution_count": 2,
   "metadata": {
    "collapsed": false
   },
   "outputs": [
    {
     "name": "stdout",
     "output_type": "stream",
     "text": [
      "2 3\n",
      "2 4\n",
      "16 32 96\n",
      "3\n"
     ]
    }
   ],
   "source": [
    "import sys\n",
    "from functools import reduce\n",
    "from math import gcd\n",
    "\n",
    "def getTotalX(a, b):\n",
    "    lcm_a = reduce(lambda x,y: x*y//gcd(x,y), a)\n",
    "    gcd_b = reduce(gcd, b)\n",
    "    return sum(1 for x in range(lcm_a,gcd_b+1,lcm_a) if gcd_b%x==0)\n",
    "    \n",
    "if __name__ == \"__main__\":\n",
    "    n, m = input().strip().split(' ')\n",
    "    n, m = [int(n), int(m)]\n",
    "    a = list(map(int, input().strip().split(' ')))\n",
    "    b = list(map(int, input().strip().split(' ')))\n",
    "    total = getTotalX(a, b)\n",
    "    print(total)"
   ]
  },
  {
   "cell_type": "markdown",
   "metadata": {},
   "source": [
    "---\n",
    "## [Breaking the Records](https://www.hackerrank.com/challenges/breaking-best-and-worst-records/problem)"
   ]
  },
  {
   "cell_type": "code",
   "execution_count": 4,
   "metadata": {
    "collapsed": false
   },
   "outputs": [
    {
     "name": "stdout",
     "output_type": "stream",
     "text": [
      "10\n",
      "3 4 21 36 10 28 35 5 24 42\n",
      "4 0\n"
     ]
    }
   ],
   "source": [
    "import sys\n",
    "\n",
    "def getRecord(s):\n",
    "    ls = hs = s[0];\n",
    "    lc = hc = 0;\n",
    "    for score in s:\n",
    "        if(score > hs):\n",
    "            hs = score;\n",
    "            hc += 1;\n",
    "        if(score < ls):\n",
    "            ls = score;\n",
    "            lc += 1;\n",
    "    return hc, lc\n",
    "\n",
    "n = int(input().strip())\n",
    "s = list(map(int, input().strip().split(' ')))\n",
    "result = getRecord(s)\n",
    "print (\" \".join(map(str, result)))"
   ]
  },
  {
   "cell_type": "code",
   "execution_count": null,
   "metadata": {
    "collapsed": true
   },
   "outputs": [],
   "source": []
  }
 ],
 "metadata": {
  "anaconda-cloud": {},
  "kernelspec": {
   "display_name": "Python [conda root]",
   "language": "python",
   "name": "conda-root-py"
  },
  "language_info": {
   "codemirror_mode": {
    "name": "ipython",
    "version": 3
   },
   "file_extension": ".py",
   "mimetype": "text/x-python",
   "name": "python",
   "nbconvert_exporter": "python",
   "pygments_lexer": "ipython3",
   "version": "3.5.2"
  }
 },
 "nbformat": 4,
 "nbformat_minor": 2
}
