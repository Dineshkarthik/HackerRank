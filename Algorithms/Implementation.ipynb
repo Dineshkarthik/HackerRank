{
 "cells": [
  {
   "cell_type": "markdown",
   "metadata": {},
   "source": [
    "## [Grading Students](https://www.hackerrank.com/challenges/grading/problem)"
   ]
  },
  {
   "cell_type": "code",
   "execution_count": 1,
   "metadata": {
    "collapsed": false
   },
   "outputs": [
    {
     "name": "stdout",
     "output_type": "stream",
     "text": [
      "4\n",
      "73\n",
      "67\n",
      "38\n",
      "33\n",
      "Results:\n",
      "75\n",
      "67\n",
      "40\n",
      "33\n"
     ]
    }
   ],
   "source": [
    "import sys\n",
    "def round_to_next5(n):\n",
    "    return n + (5 - n) % 5\n",
    "\n",
    "def solve(grades):\n",
    "    results = []\n",
    "    for grade in grades:\n",
    "        if grade < 38:\n",
    "            results.append(grade)\n",
    "        elif abs(grade - round_to_next5(grade)) < 3:\n",
    "            results.append(round_to_next5(grade))\n",
    "        else:\n",
    "            results.append(grade)\n",
    "    return results\n",
    "\n",
    "n = int(input().strip())\n",
    "grades = []\n",
    "grades_i = 0\n",
    "for grades_i in range(n):\n",
    "   grades_t = int(input().strip())\n",
    "   grades.append(grades_t)\n",
    "result = solve(grades)\n",
    "print(\"Results:\")\n",
    "print (\"\\n\".join(map(str, result)))"
   ]
  },
  {
   "cell_type": "markdown",
   "metadata": {},
   "source": [
    "---\n",
    "## [Apple and Orange](https://www.hackerrank.com/challenges/apple-and-orange/problem)"
   ]
  },
  {
   "cell_type": "code",
   "execution_count": 7,
   "metadata": {
    "collapsed": false
   },
   "outputs": [
    {
     "name": "stdout",
     "output_type": "stream",
     "text": [
      "7 11\n",
      "5 15\n",
      "3 2\n",
      "-2 2 1\n",
      "5 -6\n",
      "1\n",
      "1\n"
     ]
    }
   ],
   "source": [
    "import sys\n",
    "\n",
    "\n",
    "s,t = input().strip().split(' ')\n",
    "s,t = [int(s),int(t)]\n",
    "a,b = input().strip().split(' ')\n",
    "a,b = [int(a),int(b)]\n",
    "m,n = input().strip().split(' ')\n",
    "m,n = [int(m),int(n)]\n",
    "apple = [int(apple_temp) for apple_temp in input().strip().split(' ')]\n",
    "orange = [int(orange_temp) for orange_temp in input().strip().split(' ')]\n",
    "\n",
    "apple_count, orange_count = 0, 0\n",
    "\n",
    "for item in apple:\n",
    "    if s <= a + item <= t:\n",
    "        apple_count += 1\n",
    "\n",
    "for item in orange:\n",
    "    if s <= b + item <= t:\n",
    "        orange_count += 1\n",
    "\n",
    "print(apple_count)\n",
    "print(orange_count)"
   ]
  },
  {
   "cell_type": "markdown",
   "metadata": {},
   "source": [
    "---\n",
    "## [Kangaroo](https://www.hackerrank.com/challenges/kangaroo/problem)"
   ]
  },
  {
   "cell_type": "code",
   "execution_count": 1,
   "metadata": {
    "collapsed": false
   },
   "outputs": [
    {
     "name": "stdout",
     "output_type": "stream",
     "text": [
      "0 3 4 2\n",
      "YES\n"
     ]
    }
   ],
   "source": [
    "import sys\n",
    "\n",
    "def kangaroo(x1, v1, x2, v2):\n",
    "    if x1 == x2 and v1 == v2:\n",
    "        return \"YES\"\n",
    "    elif x1 == x2 and v1 > v2:\n",
    "        return \"NO\"\n",
    "    elif x1 <= x2 and v1 <= v2:\n",
    "        return \"NO\"\n",
    "    else:\n",
    "        if (x2 - x1) % (v1 - v2) == 0:\n",
    "            return \"YES\"\n",
    "        else:\n",
    "            return \"NO\"\n",
    "\n",
    "x1, v1, x2, v2 = input().strip().split(' ')\n",
    "x1, v1, x2, v2 = [int(x1), int(v1), int(x2), int(v2)]\n",
    "result = kangaroo(x1, v1, x2, v2)\n",
    "print(result)"
   ]
  },
  {
   "cell_type": "markdown",
   "metadata": {
    "collapsed": true
   },
   "source": [
    "---\n",
    "## [Between Two Sets](https://www.hackerrank.com/challenges/between-two-sets/problem)"
   ]
  },
  {
   "cell_type": "code",
   "execution_count": 2,
   "metadata": {
    "collapsed": false
   },
   "outputs": [
    {
     "name": "stdout",
     "output_type": "stream",
     "text": [
      "2 3\n",
      "2 4\n",
      "16 32 96\n",
      "3\n"
     ]
    }
   ],
   "source": [
    "import sys\n",
    "from functools import reduce\n",
    "from math import gcd\n",
    "\n",
    "def getTotalX(a, b):\n",
    "    lcm_a = reduce(lambda x,y: x*y//gcd(x,y), a)\n",
    "    gcd_b = reduce(gcd, b)\n",
    "    return sum(1 for x in range(lcm_a,gcd_b+1,lcm_a) if gcd_b%x==0)\n",
    "    \n",
    "if __name__ == \"__main__\":\n",
    "    n, m = input().strip().split(' ')\n",
    "    n, m = [int(n), int(m)]\n",
    "    a = list(map(int, input().strip().split(' ')))\n",
    "    b = list(map(int, input().strip().split(' ')))\n",
    "    total = getTotalX(a, b)\n",
    "    print(total)"
   ]
  },
  {
   "cell_type": "markdown",
   "metadata": {},
   "source": [
    "---\n",
    "## [Breaking the Records](https://www.hackerrank.com/challenges/breaking-best-and-worst-records/problem)"
   ]
  },
  {
   "cell_type": "code",
   "execution_count": 4,
   "metadata": {
    "collapsed": false
   },
   "outputs": [
    {
     "name": "stdout",
     "output_type": "stream",
     "text": [
      "10\n",
      "3 4 21 36 10 28 35 5 24 42\n",
      "4 0\n"
     ]
    }
   ],
   "source": [
    "import sys\n",
    "\n",
    "def getRecord(s):\n",
    "    ls = hs = s[0];\n",
    "    lc = hc = 0;\n",
    "    for score in s:\n",
    "        if(score > hs):\n",
    "            hs = score;\n",
    "            hc += 1;\n",
    "        if(score < ls):\n",
    "            ls = score;\n",
    "            lc += 1;\n",
    "    return hc, lc\n",
    "\n",
    "n = int(input().strip())\n",
    "s = list(map(int, input().strip().split(' ')))\n",
    "result = getRecord(s)\n",
    "print (\" \".join(map(str, result)))"
   ]
  },
  {
   "cell_type": "markdown",
   "metadata": {},
   "source": [
    "---\n",
    "## [Birthday Chocolate](https://www.hackerrank.com/challenges/the-birthday-bar/problem)"
   ]
  },
  {
   "cell_type": "code",
   "execution_count": 5,
   "metadata": {
    "collapsed": false
   },
   "outputs": [
    {
     "name": "stdout",
     "output_type": "stream",
     "text": [
      "5\n",
      "1 2 1 3 2\n",
      "3 2\n",
      "2\n"
     ]
    }
   ],
   "source": [
    "import sys\n",
    "\n",
    "def solve(n, s, d, m):\n",
    "    return sum(1 for i in range(n-m+1) if sum(s[i:i+m])==d)\n",
    "\n",
    "n = int(input().strip())\n",
    "s = list(map(int, input().strip().split(' ')))\n",
    "d, m = input().strip().split(' ')\n",
    "d, m = [int(d), int(m)]\n",
    "result = solve(n, s, d, m)\n",
    "print(result)"
   ]
  },
  {
   "cell_type": "markdown",
   "metadata": {},
   "source": [
    "---\n",
    "## [Divisible Sum Pairs](https://www.hackerrank.com/challenges/divisible-sum-pairs/problem)"
   ]
  },
  {
   "cell_type": "code",
   "execution_count": 6,
   "metadata": {
    "collapsed": false
   },
   "outputs": [
    {
     "name": "stdout",
     "output_type": "stream",
     "text": [
      "6 3\n",
      "1 3 2 6 1 2\n",
      "5\n"
     ]
    }
   ],
   "source": [
    "import sys\n",
    "\n",
    "def divisibleSumPairs(n, k, ar):\n",
    "    count = 0\n",
    "    for i in range(len(ar)-1):\n",
    "        for x in range(1+i, len(ar)):     \n",
    "            if (ar[i] + ar[x]) % k == 0:\n",
    "                count += 1\n",
    "    return count\n",
    "\n",
    "n, k = input().strip().split(' ')\n",
    "n, k = [int(n), int(k)]\n",
    "ar = list(map(int, input().strip().split(' ')))\n",
    "result = divisibleSumPairs(n, k, ar)\n",
    "print(result)"
   ]
  },
  {
   "cell_type": "markdown",
   "metadata": {},
   "source": [
    "---\n",
    "## [Migratory Birds](https://www.hackerrank.com/challenges/migratory-birds/problem)"
   ]
  },
  {
   "cell_type": "code",
   "execution_count": 11,
   "metadata": {
    "collapsed": false
   },
   "outputs": [
    {
     "name": "stdout",
     "output_type": "stream",
     "text": [
      "6\n",
      "1 4 4 4 5 3\n",
      "4\n"
     ]
    }
   ],
   "source": [
    "import sys\n",
    "\n",
    "def migratoryBirds(n, ar):\n",
    "    return sorted(reversed(list(set(ar))), key=ar.count)[-1]\n",
    "\n",
    "n = int(input().strip())\n",
    "ar = list(map(int, input().strip().split(' ')))\n",
    "result = migratoryBirds(n, ar)\n",
    "print(result)"
   ]
  },
  {
   "cell_type": "markdown",
   "metadata": {},
   "source": [
    "---\n",
    "## [Day of the Programmer](https://www.hackerrank.com/challenges/day-of-the-programmer/problem)"
   ]
  },
  {
   "cell_type": "code",
   "execution_count": 12,
   "metadata": {
    "collapsed": false
   },
   "outputs": [
    {
     "name": "stdout",
     "output_type": "stream",
     "text": [
      "2016\n",
      "12.09.2016\n"
     ]
    }
   ],
   "source": [
    "import sys\n",
    "\n",
    "def solve(year):\n",
    "    if (year == 1918):\n",
    "        return \"26.09.1918\"\n",
    "\n",
    "    elif (1700 <= year <= 1917):\n",
    "        y = str(year)\n",
    "        if (year%4 == 0):\n",
    "            return \"12.09.\"+y\n",
    "        else:\n",
    "            return \"13.09.\"+y\n",
    "\n",
    "    elif (1919 <= year <= 2700):\n",
    "        y = str(year)\n",
    "        if (year%4 == 0 and (year%100)!=0) or (year%400==0):\n",
    "            return \"12.09.\"+y\n",
    "        else:\n",
    "            return \"13.09.\"+y\n",
    "\n",
    "year = int(input().strip())\n",
    "result = solve(year)\n",
    "print(result)"
   ]
  },
  {
   "cell_type": "markdown",
   "metadata": {},
   "source": [
    "---\n",
    "## [Bon Appétit](https://www.hackerrank.com/challenges/bon-appetit/problem)"
   ]
  },
  {
   "cell_type": "code",
   "execution_count": 14,
   "metadata": {
    "collapsed": false
   },
   "outputs": [
    {
     "name": "stdout",
     "output_type": "stream",
     "text": [
      "4 1\n",
      "3 10 2 9\n",
      "7\n",
      "Bon Appetit\n"
     ]
    }
   ],
   "source": [
    "import sys\n",
    "\n",
    "def bonAppetit(n, k, b, ar):\n",
    "    anna_bill = sum(ar[i] for i in range(n) if i != k)//2\n",
    "    return 'Bon Appetit' if anna_bill == b else str(b-anna_bill)\n",
    "\n",
    "n, k = input().strip().split(' ')\n",
    "n, k = [int(n), int(k)]\n",
    "ar = list(map(int, input().strip().split(' ')))\n",
    "b = int(input().strip())\n",
    "result = bonAppetit(n, k, b, ar)\n",
    "print(result)"
   ]
  },
  {
   "cell_type": "markdown",
   "metadata": {},
   "source": [
    "---\n",
    "## [Sock Merchant](https://www.hackerrank.com/challenges/sock-merchant/problem)"
   ]
  },
  {
   "cell_type": "code",
   "execution_count": 16,
   "metadata": {
    "collapsed": false
   },
   "outputs": [
    {
     "name": "stdout",
     "output_type": "stream",
     "text": [
      "9\n",
      "10 20 20 10 10 30 50 10 20\n",
      "3\n"
     ]
    }
   ],
   "source": [
    "import sys\n",
    "from collections import Counter\n",
    "\n",
    "def sockMerchant(n, ar):\n",
    "    socks, pairs = Counter(map(int,ar)), 0\n",
    "    for s in socks: pairs += socks[s]//2\n",
    "    return pairs\n",
    "\n",
    "n = int(input().strip())\n",
    "ar = list(map(int, input().strip().split(' ')))\n",
    "result = sockMerchant(n, ar)\n",
    "print(result)"
   ]
  },
  {
   "cell_type": "markdown",
   "metadata": {},
   "source": [
    "---\n",
    "## [Drawing Book](https://www.hackerrank.com/challenges/drawing-book/problem)"
   ]
  },
  {
   "cell_type": "code",
   "execution_count": 18,
   "metadata": {
    "collapsed": false
   },
   "outputs": [
    {
     "name": "stdout",
     "output_type": "stream",
     "text": [
      "5\n",
      "4\n",
      "0\n"
     ]
    }
   ],
   "source": [
    "import sys\n",
    "\n",
    "def solve(n, p):\n",
    "    return min(p//2, n//2 - p//2)\n",
    "\n",
    "n = int(input().strip())\n",
    "p = int(input().strip())\n",
    "result = solve(n, p)\n",
    "print(result)"
   ]
  },
  {
   "cell_type": "markdown",
   "metadata": {},
   "source": [
    "---\n",
    "## [Counting Valleys](https://www.hackerrank.com/challenges/counting-valleys/problem)"
   ]
  },
  {
   "cell_type": "code",
   "execution_count": 20,
   "metadata": {
    "collapsed": false
   },
   "outputs": [
    {
     "name": "stdout",
     "output_type": "stream",
     "text": [
      "8\n",
      "UDDDUDUU\n",
      "1\n"
     ]
    }
   ],
   "source": [
    "n = int(input())\n",
    "steps = input()\n",
    "level = 0\n",
    "valley = 0\n",
    "for ch in steps:\n",
    "    if ch == 'U':\n",
    "        level += 1\n",
    "        if level == 0:\n",
    "            valley += 1\n",
    "    else:\n",
    "        level -= 1\n",
    "print(valley)"
   ]
  },
  {
   "cell_type": "markdown",
   "metadata": {},
   "source": [
    "---\n",
    "## [Electronics Shop](https://www.hackerrank.com/challenges/electronics-shop/problem)"
   ]
  },
  {
   "cell_type": "code",
   "execution_count": 22,
   "metadata": {
    "collapsed": false
   },
   "outputs": [
    {
     "name": "stdout",
     "output_type": "stream",
     "text": [
      "10 2 3\n",
      "3 1\n",
      "5 2 8\n",
      "9\n"
     ]
    }
   ],
   "source": [
    "import sys\n",
    "\n",
    "def getMoneySpent(keyboards, drives, s):\n",
    "    ans=-1\n",
    "    for x in keyboards:\n",
    "        for y in drives:\n",
    "            if x+y<=s:\n",
    "                ans=max(ans,x+y)\n",
    "    return ans\n",
    "\n",
    "s,n,m = input().strip().split(' ')\n",
    "s,n,m = [int(s),int(n),int(m)]\n",
    "keyboards = list(map(int, input().strip().split(' ')))\n",
    "drives = list(map(int, input().strip().split(' ')))\n",
    "#  The maximum amount of money she can spend on a keyboard and USB drive, or -1 if she can't purchase both items\n",
    "moneySpent = getMoneySpent(keyboards, drives, s)\n",
    "print(moneySpent)"
   ]
  },
  {
   "cell_type": "markdown",
   "metadata": {},
   "source": [
    "---\n",
    "## [Cats and a Mouse](https://www.hackerrank.com/challenges/cats-and-a-mouse/problem)"
   ]
  },
  {
   "cell_type": "code",
   "execution_count": 25,
   "metadata": {
    "collapsed": false
   },
   "outputs": [
    {
     "name": "stdout",
     "output_type": "stream",
     "text": [
      "3\n",
      "1 2 3\n",
      "Cat B\n",
      "1 3 2\n",
      "Mouse C\n",
      "2 1 3\n",
      "Cat A\n"
     ]
    }
   ],
   "source": [
    "import sys\n",
    "\n",
    "\n",
    "q = int(input().strip())\n",
    "for a0 in range(q):\n",
    "    x,y,z = input().strip().split(' ')\n",
    "    x,y,z = [int(x),int(y),int(z)]\n",
    "    print(['Cat A','Cat B', 'Mouse C'][0 if abs(x-z) < abs(y-z) else 1 if abs(x-z) > abs(y-z) else 2])"
   ]
  },
  {
   "cell_type": "markdown",
   "metadata": {},
   "source": [
    "---\n",
    "## [Ema's Supercomputer](https://www.hackerrank.com/challenges/two-pluses/problem)"
   ]
  },
  {
   "cell_type": "code",
   "execution_count": 1,
   "metadata": {
    "collapsed": false
   },
   "outputs": [
    {
     "name": "stdout",
     "output_type": "stream",
     "text": [
      "5 6\n",
      "GGGGGG\n",
      "GBBBGB\n",
      "GGGGGG\n",
      "GGBBGB\n",
      "GGGGGG\n",
      "5\n"
     ]
    }
   ],
   "source": [
    "from itertools import repeat, chain, combinations\n",
    "\n",
    "N, M = [int(x) for x in input().strip().split(' ')]\n",
    "grid = [[c == 'G' for c in input().strip()] for _ in range(N)]\n",
    "\n",
    "def all_plusses(i0, j0):\n",
    "    # edge coordinates of all plusses radiating from this location\n",
    "    # including the 1-square \"plus\"\n",
    "    return chain([[(i0, j0)]],\n",
    "                 zip(zip(range(i0+1, N), repeat(j0)), \\\n",
    "                     zip(reversed(range(0, i0)), repeat(j0)), \\\n",
    "                     zip(repeat(i0), range(j0+1, M)), \\\n",
    "                     zip(repeat(i0), reversed(range(0, j0)))))\n",
    "\n",
    "def valid_plusses(i0, j0):\n",
    "    # yields sets of coordinates each describing a valid\n",
    "    # plus originating at (i0, j0)\n",
    "    coords = set()\n",
    "    for edge in all_plusses(i0, j0):\n",
    "        if all(grid[i][j] for i, j in edge):\n",
    "            coords.update(edge)\n",
    "            yield frozenset(coords)\n",
    "        else:\n",
    "            return\n",
    "\n",
    "poss_plusses = chain.from_iterable(valid_plusses(i, j) for i in range(N) for j in range(M))\n",
    "\n",
    "max_size = -1\n",
    "for p1, p2 in combinations(poss_plusses, 2):\n",
    "    if not (p1 & p2):\n",
    "        max_size = max(max_size, len(p1) * len(p2))\n",
    "        \n",
    "print(max_size)"
   ]
  },
  {
   "cell_type": "markdown",
   "metadata": {},
   "source": [
    "---\n",
    "## [Larry's Array](https://www.hackerrank.com/challenges/larrys-array/problem)"
   ]
  },
  {
   "cell_type": "code",
   "execution_count": 2,
   "metadata": {
    "collapsed": false
   },
   "outputs": [
    {
     "name": "stdout",
     "output_type": "stream",
     "text": [
      "3\n",
      "3\n",
      "3 1 2\n",
      "YES\n",
      "4\n",
      "1 3 4 2\n",
      "YES\n",
      "5\n",
      "1 2 3 5 4\n",
      "NO\n"
     ]
    }
   ],
   "source": [
    "t = int(input())\n",
    "for i in range(t):\n",
    "    a = 0\n",
    "    n = int(input())\n",
    "    li = [int(x) for x in input().split()]\n",
    "    for j in range(n):\n",
    "        for k in range(j+1,n):\n",
    "            if li[j]>li[k]:\n",
    "                a += 1\n",
    "    if a%2 == 0:\n",
    "        print(\"YES\")\n",
    "    else:\n",
    "        print(\"NO\")"
   ]
  }
 ],
 "metadata": {
  "anaconda-cloud": {},
  "kernelspec": {
   "display_name": "Python [conda root]",
   "language": "python",
   "name": "conda-root-py"
  },
  "language_info": {
   "codemirror_mode": {
    "name": "ipython",
    "version": 3
   },
   "file_extension": ".py",
   "mimetype": "text/x-python",
   "name": "python",
   "nbconvert_exporter": "python",
   "pygments_lexer": "ipython3",
   "version": "3.5.2"
  }
 },
 "nbformat": 4,
 "nbformat_minor": 2
}
