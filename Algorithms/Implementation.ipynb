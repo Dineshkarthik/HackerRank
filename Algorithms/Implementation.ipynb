{
 "cells": [
  {
   "cell_type": "markdown",
   "metadata": {},
   "source": [
    "## [Grading Students](https://www.hackerrank.com/challenges/grading/problem)"
   ]
  },
  {
   "cell_type": "code",
   "execution_count": 1,
   "metadata": {
    "collapsed": false
   },
   "outputs": [
    {
     "name": "stdout",
     "output_type": "stream",
     "text": [
      "4\n",
      "73\n",
      "67\n",
      "38\n",
      "33\n",
      "Results:\n",
      "75\n",
      "67\n",
      "40\n",
      "33\n"
     ]
    }
   ],
   "source": [
    "import sys\n",
    "def round_to_next5(n):\n",
    "    return n + (5 - n) % 5\n",
    "\n",
    "def solve(grades):\n",
    "    results = []\n",
    "    for grade in grades:\n",
    "        if grade < 38:\n",
    "            results.append(grade)\n",
    "        elif abs(grade - round_to_next5(grade)) < 3:\n",
    "            results.append(round_to_next5(grade))\n",
    "        else:\n",
    "            results.append(grade)\n",
    "    return results\n",
    "\n",
    "n = int(input().strip())\n",
    "grades = []\n",
    "grades_i = 0\n",
    "for grades_i in range(n):\n",
    "   grades_t = int(input().strip())\n",
    "   grades.append(grades_t)\n",
    "result = solve(grades)\n",
    "print(\"Results:\")\n",
    "print (\"\\n\".join(map(str, result)))"
   ]
  },
  {
   "cell_type": "markdown",
   "metadata": {},
   "source": [
    "---\n",
    "## [Apple and Orange](https://www.hackerrank.com/challenges/apple-and-orange/problem)"
   ]
  },
  {
   "cell_type": "code",
   "execution_count": 7,
   "metadata": {
    "collapsed": false
   },
   "outputs": [
    {
     "name": "stdout",
     "output_type": "stream",
     "text": [
      "7 11\n",
      "5 15\n",
      "3 2\n",
      "-2 2 1\n",
      "5 -6\n",
      "1\n",
      "1\n"
     ]
    }
   ],
   "source": [
    "import sys\n",
    "\n",
    "\n",
    "s,t = input().strip().split(' ')\n",
    "s,t = [int(s),int(t)]\n",
    "a,b = input().strip().split(' ')\n",
    "a,b = [int(a),int(b)]\n",
    "m,n = input().strip().split(' ')\n",
    "m,n = [int(m),int(n)]\n",
    "apple = [int(apple_temp) for apple_temp in input().strip().split(' ')]\n",
    "orange = [int(orange_temp) for orange_temp in input().strip().split(' ')]\n",
    "\n",
    "apple_count, orange_count = 0, 0\n",
    "\n",
    "for item in apple:\n",
    "    if s <= a + item <= t:\n",
    "        apple_count += 1\n",
    "\n",
    "for item in orange:\n",
    "    if s <= b + item <= t:\n",
    "        orange_count += 1\n",
    "\n",
    "print(apple_count)\n",
    "print(orange_count)"
   ]
  },
  {
   "cell_type": "code",
   "execution_count": null,
   "metadata": {
    "collapsed": true
   },
   "outputs": [],
   "source": []
  },
  {
   "cell_type": "code",
   "execution_count": null,
   "metadata": {
    "collapsed": true
   },
   "outputs": [],
   "source": []
  }
 ],
 "metadata": {
  "anaconda-cloud": {},
  "kernelspec": {
   "display_name": "Python [conda root]",
   "language": "python",
   "name": "conda-root-py"
  },
  "language_info": {
   "codemirror_mode": {
    "name": "ipython",
    "version": 3
   },
   "file_extension": ".py",
   "mimetype": "text/x-python",
   "name": "python",
   "nbconvert_exporter": "python",
   "pygments_lexer": "ipython3",
   "version": "3.5.2"
  }
 },
 "nbformat": 4,
 "nbformat_minor": 2
}
