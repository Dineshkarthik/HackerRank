{
 "cells": [
  {
   "cell_type": "markdown",
   "metadata": {},
   "source": [
    "## [Grading Students](https://www.hackerrank.com/challenges/grading/problem)"
   ]
  },
  {
   "cell_type": "code",
   "execution_count": 1,
   "metadata": {
    "collapsed": false
   },
   "outputs": [
    {
     "name": "stdout",
     "output_type": "stream",
     "text": [
      "4\n",
      "73\n",
      "67\n",
      "38\n",
      "33\n",
      "Results:\n",
      "75\n",
      "67\n",
      "40\n",
      "33\n"
     ]
    }
   ],
   "source": [
    "import sys\n",
    "def round_to_next5(n):\n",
    "    return n + (5 - n) % 5\n",
    "\n",
    "def solve(grades):\n",
    "    results = []\n",
    "    for grade in grades:\n",
    "        if grade < 38:\n",
    "            results.append(grade)\n",
    "        elif abs(grade - round_to_next5(grade)) < 3:\n",
    "            results.append(round_to_next5(grade))\n",
    "        else:\n",
    "            results.append(grade)\n",
    "    return results\n",
    "\n",
    "n = int(input().strip())\n",
    "grades = []\n",
    "grades_i = 0\n",
    "for grades_i in range(n):\n",
    "   grades_t = int(input().strip())\n",
    "   grades.append(grades_t)\n",
    "result = solve(grades)\n",
    "print(\"Results:\")\n",
    "print (\"\\n\".join(map(str, result)))"
   ]
  },
  {
   "cell_type": "code",
   "execution_count": null,
   "metadata": {
    "collapsed": true
   },
   "outputs": [],
   "source": []
  }
 ],
 "metadata": {
  "anaconda-cloud": {},
  "kernelspec": {
   "display_name": "Python [conda root]",
   "language": "python",
   "name": "conda-root-py"
  },
  "language_info": {
   "codemirror_mode": {
    "name": "ipython",
    "version": 3
   },
   "file_extension": ".py",
   "mimetype": "text/x-python",
   "name": "python",
   "nbconvert_exporter": "python",
   "pygments_lexer": "ipython3",
   "version": "3.5.2"
  }
 },
 "nbformat": 4,
 "nbformat_minor": 2
}
