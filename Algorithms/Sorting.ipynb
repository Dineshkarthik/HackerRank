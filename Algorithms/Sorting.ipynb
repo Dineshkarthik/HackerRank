{
 "cells": [
  {
   "cell_type": "markdown",
   "metadata": {},
   "source": [
    "## [Big Sorting](https://www.hackerrank.com/challenges/big-sorting/problem)"
   ]
  },
  {
   "cell_type": "code",
   "execution_count": 1,
   "metadata": {
    "collapsed": false
   },
   "outputs": [
    {
     "name": "stdout",
     "output_type": "stream",
     "text": [
      "6\n",
      "31415926535897932384626433832795\n",
      "1\n",
      "3\n",
      "10\n",
      "3\n",
      "5\n",
      "1\n",
      "3\n",
      "3\n",
      "5\n",
      "10\n",
      "31415926535897932384626433832795\n"
     ]
    }
   ],
   "source": [
    "from collections import defaultdict\n",
    "\n",
    "\n",
    "n = int(input().strip())\n",
    "bucket = defaultdict(list)\n",
    "\n",
    "for _ in range(n):\n",
    "    number = input().strip()\n",
    "    bucket[len(number)].append(number)\n",
    "    \n",
    "for key in sorted(bucket):\n",
    "    for value in sorted(bucket[key]):\n",
    "        print(value)"
   ]
  },
  {
   "cell_type": "markdown",
   "metadata": {},
   "source": [
    "---\n",
    "## [Intro to Tutorial Challenges](https://www.hackerrank.com/challenges/tutorial-intro/problem)"
   ]
  },
  {
   "cell_type": "code",
   "execution_count": 2,
   "metadata": {
    "collapsed": false
   },
   "outputs": [
    {
     "name": "stdout",
     "output_type": "stream",
     "text": [
      "4\n",
      "6\n",
      "1 4 5 7 9 12\n",
      "1\n"
     ]
    }
   ],
   "source": [
    "v, n = input(), input()\n",
    "print(input().split().index(v))"
   ]
  }
 ],
 "metadata": {
  "anaconda-cloud": {},
  "kernelspec": {
   "display_name": "Python [conda root]",
   "language": "python",
   "name": "conda-root-py"
  },
  "language_info": {
   "codemirror_mode": {
    "name": "ipython",
    "version": 3
   },
   "file_extension": ".py",
   "mimetype": "text/x-python",
   "name": "python",
   "nbconvert_exporter": "python",
   "pygments_lexer": "ipython3",
   "version": "3.5.2"
  }
 },
 "nbformat": 4,
 "nbformat_minor": 2
}
