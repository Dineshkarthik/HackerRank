{
 "cells": [
  {
   "cell_type": "markdown",
   "metadata": {},
   "source": [
    "## [Big Sorting](https://www.hackerrank.com/challenges/big-sorting/problem)"
   ]
  },
  {
   "cell_type": "code",
   "execution_count": 8,
   "metadata": {
    "collapsed": false
   },
   "outputs": [
    {
     "name": "stdout",
     "output_type": "stream",
     "text": [
      "6\n",
      "31415926535897932384626433832795\n",
      "1\n",
      "3\n",
      "10\n",
      "3\n",
      "5\n",
      "output:\n",
      "1\n",
      "3\n",
      "3\n",
      "5\n",
      "10\n",
      "31415926535897932384626433832795\n"
     ]
    }
   ],
   "source": [
    "from collections import defaultdict\n",
    "\n",
    "\n",
    "n = int(input().strip())\n",
    "bucket = defaultdict(list)\n",
    "\n",
    "for _ in range(n):\n",
    "    number = input().strip()\n",
    "    bucket[len(number)].append(number)\n",
    "print(\"output:\")    \n",
    "for key in sorted(bucket):\n",
    "    for value in sorted(bucket[key]):\n",
    "        print(value)"
   ]
  },
  {
   "cell_type": "markdown",
   "metadata": {},
   "source": [
    "---\n",
    "## [Intro to Tutorial Challenges](https://www.hackerrank.com/challenges/tutorial-intro/problem)"
   ]
  },
  {
   "cell_type": "code",
   "execution_count": 2,
   "metadata": {
    "collapsed": false
   },
   "outputs": [
    {
     "name": "stdout",
     "output_type": "stream",
     "text": [
      "4\n",
      "6\n",
      "1 4 5 7 9 12\n",
      "1\n"
     ]
    }
   ],
   "source": [
    "v, n = input(), input()\n",
    "print(input().split().index(v))"
   ]
  },
  {
   "cell_type": "markdown",
   "metadata": {},
   "source": [
    "---\n",
    "## [Insertion Sort - Part 1](https://www.hackerrank.com/challenges/insertionsort1/problem)"
   ]
  },
  {
   "cell_type": "code",
   "execution_count": 6,
   "metadata": {
    "collapsed": false
   },
   "outputs": [
    {
     "name": "stdout",
     "output_type": "stream",
     "text": [
      "5\n",
      "2 4 6 8 3\n",
      "output:\n",
      "2 4 6 8 8\n",
      "2 4 6 6 8\n",
      "2 4 4 6 8\n",
      "2 3 4 6 8\n"
     ]
    }
   ],
   "source": [
    "def insertionSort(ar,m):\n",
    "    i=m-1\n",
    "    temp=ar[i]\n",
    "    while(ar[i-1]>temp and i>0):\n",
    "        ar[i]=ar[i-1]\n",
    "        print(' '.join(map(str,ar)))\n",
    "        i-=1\n",
    "    ar[i]=temp\n",
    "    print(' '.join(map(str,ar)))\n",
    "    return ar\n",
    "\n",
    "m = int(input())\n",
    "ar = list(map(int,input().strip().split()))\n",
    "print(\"output:\")\n",
    "ar=insertionSort(ar,m)"
   ]
  },
  {
   "cell_type": "markdown",
   "metadata": {},
   "source": [
    "---\n",
    "## [Insertion Sort - Part 2](https://www.hackerrank.com/challenges/insertionsort2/problem)"
   ]
  },
  {
   "cell_type": "code",
   "execution_count": 5,
   "metadata": {
    "collapsed": false
   },
   "outputs": [
    {
     "name": "stdout",
     "output_type": "stream",
     "text": [
      "6\n",
      "1 4 3 5 6 2\n",
      "output:\n",
      "1 4 3 5 6 2\n",
      "1 3 4 5 6 2\n",
      "1 3 4 5 6 2\n",
      "1 3 4 5 6 2\n",
      "1 2 3 4 5 6\n"
     ]
    }
   ],
   "source": [
    "b = int(input())\n",
    "a = [int(x) for x in input().strip().split(' ')]\n",
    "print(\"output:\")\n",
    "for i in range(1,len(a)):\n",
    "    key = a[i]\n",
    "    j = i-1\n",
    "    while j >= 0 and a[j] > key:\n",
    "        a[j+1] = a[j]\n",
    "        j = j-1\n",
    "    a[j+1] = key\n",
    "    print(*a)"
   ]
  },
  {
   "cell_type": "markdown",
   "metadata": {},
   "source": [
    "---\n",
    "## [Correctness and the Loop Invariant](https://www.hackerrank.com/challenges/correctness-invariant/problem)"
   ]
  },
  {
   "cell_type": "code",
   "execution_count": 9,
   "metadata": {
    "collapsed": false
   },
   "outputs": [
    {
     "name": "stdout",
     "output_type": "stream",
     "text": [
      "6\n",
      "1 4 3 5 6 2\n",
      "Output:\n",
      "1 2 3 4 5 6\n"
     ]
    }
   ],
   "source": [
    "def insertion_sort(l):\n",
    "    for i in range(1, len(l)):\n",
    "        j = i-1\n",
    "        key = l[i]\n",
    "        while (j >= 0) and (l[j] > key):\n",
    "           l[j+1] = l[j]\n",
    "           j -= 1\n",
    "        l[j+1] = key\n",
    "\n",
    "\n",
    "m = int(input().strip())\n",
    "ar = [int(i) for i in input().strip().split()]\n",
    "print(\"Output:\")\n",
    "insertion_sort(ar)\n",
    "print(\" \".join(map(str,ar)))"
   ]
  },
  {
   "cell_type": "markdown",
   "metadata": {},
   "source": [
    "---\n",
    "## [Running Time of Algorithmst](https://www.hackerrank.com/challenges/runningtime/problem)"
   ]
  },
  {
   "cell_type": "code",
   "execution_count": 10,
   "metadata": {
    "collapsed": false
   },
   "outputs": [
    {
     "name": "stdout",
     "output_type": "stream",
     "text": [
      "5\n",
      "2 1 3 1 2\n",
      "Output:\n",
      "4\n"
     ]
    }
   ],
   "source": [
    "l = int(input())\n",
    "arr = input().split()\n",
    "c = 0\n",
    "\n",
    "for x in range(1,len(arr)):\n",
    "    i = x\n",
    "    for y in range(x - 1,-1,-1): \n",
    "        if int(arr[i]) < int(arr[y]):\n",
    "            arr[i],arr[y] = arr[y],arr[i]\n",
    "            i = y\n",
    "            c += 1    \n",
    "print(\"Output:\")\n",
    "print(c)"
   ]
  }
 ],
 "metadata": {
  "anaconda-cloud": {},
  "kernelspec": {
   "display_name": "Python [conda root]",
   "language": "python",
   "name": "conda-root-py"
  },
  "language_info": {
   "codemirror_mode": {
    "name": "ipython",
    "version": 3
   },
   "file_extension": ".py",
   "mimetype": "text/x-python",
   "name": "python",
   "nbconvert_exporter": "python",
   "pygments_lexer": "ipython3",
   "version": "3.5.2"
  }
 },
 "nbformat": 4,
 "nbformat_minor": 2
}
