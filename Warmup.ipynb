{
 "cells": [
  {
   "cell_type": "markdown",
   "metadata": {},
   "source": [
    "## Solve Me First\n",
    "\n",
    "Welcome to HackerRank! The purpose of this challenge is to familiarize you with reading input from stdin (the standard input stream) and writing output to stdout (the standard output stream) using our environment.\n",
    "\n",
    "Review the code provided in the editor below, then complete the solveMeFirst function so that it returns the sum of two integers read from stdin. Take some time to understand this code so you're prepared to write it yourself in future challenges.\n",
    "\n",
    "Select a language below, and start coding!\n",
    "\n",
    "**Input Format**\n",
    "\n",
    "Code that reads input from stdin is provided for you in the editor. There are  lines of input, and each line contains a single integer.\n",
    "\n",
    "**Output Format**\n",
    "\n",
    "Code that prints the sum calculated and returned by solveMeFirst is provided for you in the editor."
   ]
  },
  {
   "cell_type": "code",
   "execution_count": 2,
   "metadata": {
    "collapsed": false
   },
   "outputs": [
    {
     "name": "stdout",
     "output_type": "stream",
     "text": [
      "53\n",
      "45\n",
      "98\n"
     ]
    }
   ],
   "source": [
    "def solveMeFirst(a,b):\n",
    "    return a + b\n",
    "  \n",
    "\n",
    "num1 = int(input())\n",
    "num2 = int(input())\n",
    "res = solveMeFirst(num1,num2)\n",
    "print(res)"
   ]
  },
  {
   "cell_type": "markdown",
   "metadata": {},
   "source": [
    "***"
   ]
  },
  {
   "cell_type": "markdown",
   "metadata": {},
   "source": [
    "## Simple Array Sum\n",
    "\n",
    "Given an array of  integers, can you find the sum of its elements?\n",
    "\n",
    "**Input Format**\n",
    "\n",
    "The first line contains an integer, , denoting the size of the array. \n",
    "The second line contains  space-separated integers representing the array's elements.\n",
    "\n",
    "Output Format\n",
    "\n",
    "Print the sum of the array's elements as a single integer.\n",
    "\n",
    "**Sample Input**\n",
    "```\n",
    "6\n",
    "1 2 3 4 10 11```\n",
    "\n",
    "**Sample Output**\n",
    "```\n",
    "31```\n",
    "\n",
    "**Explanation**\n",
    "\n",
    "We print the sum of the array's elements, which is: 1 + 2 + 3 + 4 + 10 + 11 = 31."
   ]
  },
  {
   "cell_type": "code",
   "execution_count": 3,
   "metadata": {
    "collapsed": false
   },
   "outputs": [
    {
     "name": "stdout",
     "output_type": "stream",
     "text": [
      "6\n",
      "1 2 3 4 10 11\n",
      "31\n"
     ]
    }
   ],
   "source": [
    "import sys\n",
    "\n",
    "def simpleArraySum(n, ar):\n",
    "    return sum(ar)\n",
    "\n",
    "n = int(input().strip())\n",
    "ar = list(map(int, input().strip().split(' ')))\n",
    "result = simpleArraySum(n, ar)\n",
    "print(result)"
   ]
  },
  {
   "cell_type": "markdown",
   "metadata": {},
   "source": [
    "***"
   ]
  },
  {
   "cell_type": "markdown",
   "metadata": {},
   "source": [
    "## Compare the Triplets\n",
    "\n",
    "Alice and Bob each created one problem for HackerRank. A reviewer rates the two challenges, awarding points on a scale from  to  for three categories: problem clarity, originality, and difficulty.\n",
    "\n",
    "We define the rating for Alice's challenge to be the triplet A = (a1,a2,a3), and the rating for Bob's challenge to be the triplet B = (b1, b2, b3).\n",
    "\n",
    "Your task is to find their comparison points by comparing  with ,  with , and  with .\n",
    "\n",
    " - If a(i) > b(i), then Alice is awarded  point.\n",
    " - If a(i) < b(i), then Bob is awarded  point.\n",
    " - If a(i) == b(i), then neither person receives a point.\n",
    "Comparison points is the total points a person earned.\n",
    "\n",
    "Given  and , can you compare the two challenges and print their respective comparison points?\n",
    "\n",
    "**Input Format**\n",
    "\n",
    " - The first line contains  space-separated integers, a0, a1, and a2, describing the respective values in triplet A. \n",
    " - The second line contains  space-separated integers, b0, b1, and b2, describing the respective values in triplet B.\n",
    "\n",
    "**Output Format**\n",
    "\n",
    "Print two space-separated integers denoting the respective comparison points earned by Alice and Bob.\n",
    "\n",
    "**Sample Input**\n",
    "```\n",
    "5 6 7\n",
    "3 6 10```\n",
    "\n",
    "**Sample Output**\n",
    "```\n",
    "1 1```\n",
    "\n",
    "**Explanation**\n",
    "\n",
    "In this example:\n",
    " - A = (a0, a1, a2) = (5, 6, 7)\n",
    " - B = (b0, b1, b2) = (3, 6, 10)\n",
    "\n",
    "Now, let's compare each individual score:\n",
    "\n",
    " - a0 > b0, so Alice receives  point.\n",
    " - a1 = b1, so nobody receives a point.\n",
    " - a < b2, so Bob receives  point.\n",
    "Alice's comparison score is , and Bob's comparison score is . Thus, we print 1 1 (Alice's comparison score followed by Bob's comparison score) on a single line."
   ]
  },
  {
   "cell_type": "code",
   "execution_count": 7,
   "metadata": {
    "collapsed": false
   },
   "outputs": [
    {
     "name": "stdout",
     "output_type": "stream",
     "text": [
      "5 6 7\n",
      "3 6 10\n",
      "1 1\n"
     ]
    }
   ],
   "source": [
    "import sys\n",
    "\n",
    "def solve(a0, a1, a2, b0, b1, b2):\n",
    "    alice = [a0, a1, a2]\n",
    "    bob = [b0, b1, b2]\n",
    "    n = len(alice)\n",
    "    alice_points, bob_points = 0,0\n",
    "    for i in range(0, n):\n",
    "        if alice[i] > bob[i]:\n",
    "            alice_points += 1\n",
    "        elif alice[i] < bob[i]:\n",
    "            bob_points += 1\n",
    "    return (alice_points, bob_points)\n",
    "\n",
    "a0, a1, a2 = input().strip().split(' ')\n",
    "a0, a1, a2 = [int(a0), int(a1), int(a2)]\n",
    "b0, b1, b2 = input().strip().split(' ')\n",
    "b0, b1, b2 = [int(b0), int(b1), int(b2)]\n",
    "result = solve(a0, a1, a2, b0, b1, b2)\n",
    "print (\" \".join(map(str, result)))"
   ]
  },
  {
   "cell_type": "markdown",
   "metadata": {},
   "source": [
    "---"
   ]
  },
  {
   "cell_type": "markdown",
   "metadata": {},
   "source": [
    "## [A Very Big Sum](https://www.hackerrank.com/challenges/a-very-big-sum/problem)"
   ]
  },
  {
   "cell_type": "code",
   "execution_count": 8,
   "metadata": {
    "collapsed": false
   },
   "outputs": [
    {
     "name": "stdout",
     "output_type": "stream",
     "text": [
      "5\n",
      "1000000001 1000000002 1000000003 1000000004 1000000005\n",
      "5000000015\n"
     ]
    }
   ],
   "source": [
    "import sys\n",
    "\n",
    "def aVeryBigSum(n, ar):\n",
    "    return sum(ar)\n",
    "\n",
    "n = int(input().strip())\n",
    "ar = list(map(int, input().strip().split(' ')))\n",
    "result = aVeryBigSum(n, ar)\n",
    "print(result)"
   ]
  },
  {
   "cell_type": "code",
   "execution_count": null,
   "metadata": {
    "collapsed": true
   },
   "outputs": [],
   "source": []
  }
 ],
 "metadata": {
  "anaconda-cloud": {},
  "kernelspec": {
   "display_name": "Python [conda root]",
   "language": "python",
   "name": "conda-root-py"
  },
  "language_info": {
   "codemirror_mode": {
    "name": "ipython",
    "version": 3
   },
   "file_extension": ".py",
   "mimetype": "text/x-python",
   "name": "python",
   "nbconvert_exporter": "python",
   "pygments_lexer": "ipython3",
   "version": "3.5.2"
  }
 },
 "nbformat": 4,
 "nbformat_minor": 2
}
