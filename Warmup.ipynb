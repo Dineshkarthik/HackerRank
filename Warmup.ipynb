{
 "cells": [
  {
   "cell_type": "markdown",
   "metadata": {},
   "source": [
    "## Solve Me First\n",
    "\n",
    "Welcome to HackerRank! The purpose of this challenge is to familiarize you with reading input from stdin (the standard input stream) and writing output to stdout (the standard output stream) using our environment.\n",
    "\n",
    "Review the code provided in the editor below, then complete the solveMeFirst function so that it returns the sum of two integers read from stdin. Take some time to understand this code so you're prepared to write it yourself in future challenges.\n",
    "\n",
    "Select a language below, and start coding!\n",
    "\n",
    "**Input Format**\n",
    "\n",
    "Code that reads input from stdin is provided for you in the editor. There are  lines of input, and each line contains a single integer.\n",
    "\n",
    "**Output Format**\n",
    "\n",
    "Code that prints the sum calculated and returned by solveMeFirst is provided for you in the editor."
   ]
  },
  {
   "cell_type": "code",
   "execution_count": 1,
   "metadata": {
    "collapsed": false
   },
   "outputs": [
    {
     "name": "stdout",
     "output_type": "stream",
     "text": [
      "3\n",
      "4\n",
      "7\n"
     ]
    }
   ],
   "source": [
    "def solveMeFirst(a,b):\n",
    "    return a + b\n",
    "  \n",
    "\n",
    "num1 = int(input())\n",
    "num2 = int(input())\n",
    "res = solveMeFirst(num1,num2)\n",
    "print(res)"
   ]
  },
  {
   "cell_type": "markdown",
   "metadata": {},
   "source": [
    "***"
   ]
  },
  {
   "cell_type": "markdown",
   "metadata": {},
   "source": [
    "## Simple Array Sum\n",
    "\n",
    "Given an array of  integers, can you find the sum of its elements?\n",
    "\n",
    "**Input Format**\n",
    "\n",
    "The first line contains an integer, , denoting the size of the array. \n",
    "The second line contains  space-separated integers representing the array's elements.\n",
    "\n",
    "Output Format\n",
    "\n",
    "Print the sum of the array's elements as a single integer.\n",
    "\n",
    "**Sample Input**\n",
    "```\n",
    "6\n",
    "1 2 3 4 10 11```\n",
    "\n",
    "**Sample Output**\n",
    "```\n",
    "31```\n",
    "\n",
    "**Explanation**\n",
    "\n",
    "We print the sum of the array's elements, which is: 1 + 2 + 3 + 4 + 10 + 11 = 31."
   ]
  },
  {
   "cell_type": "code",
   "execution_count": 3,
   "metadata": {
    "collapsed": false
   },
   "outputs": [
    {
     "name": "stdout",
     "output_type": "stream",
     "text": [
      "6\n",
      "1 2 3 4 10 11\n",
      "31\n"
     ]
    }
   ],
   "source": [
    "import sys\n",
    "\n",
    "def simpleArraySum(n, ar):\n",
    "    return sum(ar)\n",
    "\n",
    "n = int(input().strip())\n",
    "ar = list(map(int, input().strip().split(' ')))\n",
    "result = simpleArraySum(n, ar)\n",
    "print(result)"
   ]
  },
  {
   "cell_type": "markdown",
   "metadata": {},
   "source": [
    "***"
   ]
  },
  {
   "cell_type": "markdown",
   "metadata": {},
   "source": [
    "## Compare the Triplets\n",
    "\n",
    "Alice and Bob each created one problem for HackerRank. A reviewer rates the two challenges, awarding points on a scale from  to  for three categories: problem clarity, originality, and difficulty.\n",
    "\n",
    "We define the rating for Alice's challenge to be the triplet A = (a1,a2,a3), and the rating for Bob's challenge to be the triplet B = (b1, b2, b3).\n",
    "\n",
    "Your task is to find their comparison points by comparing  with ,  with , and  with .\n",
    "\n",
    " - If a(i) > b(i), then Alice is awarded  point.\n",
    " - If a(i) < b(i), then Bob is awarded  point.\n",
    " - If a(i) == b(i), then neither person receives a point.\n",
    "Comparison points is the total points a person earned.\n",
    "\n",
    "Given  and , can you compare the two challenges and print their respective comparison points?\n",
    "\n",
    "**Input Format**\n",
    "\n",
    " - The first line contains  space-separated integers, a0, a1, and a2, describing the respective values in triplet A. \n",
    " - The second line contains  space-separated integers, b0, b1, and b2, describing the respective values in triplet B.\n",
    "\n",
    "**Output Format**\n",
    "\n",
    "Print two space-separated integers denoting the respective comparison points earned by Alice and Bob.\n",
    "\n",
    "**Sample Input**\n",
    "```\n",
    "5 6 7\n",
    "3 6 10```\n",
    "\n",
    "**Sample Output**\n",
    "```\n",
    "1 1```\n",
    "\n",
    "**Explanation**\n",
    "\n",
    "In this example:\n",
    " - A = (a0, a1, a2) = (5, 6, 7)\n",
    " - B = (b0, b1, b2) = (3, 6, 10)\n",
    "\n",
    "Now, let's compare each individual score:\n",
    "\n",
    " - a0 > b0, so Alice receives  point.\n",
    " - a1 = b1, so nobody receives a point.\n",
    " - a < b2, so Bob receives  point.\n",
    "Alice's comparison score is , and Bob's comparison score is . Thus, we print 1 1 (Alice's comparison score followed by Bob's comparison score) on a single line."
   ]
  },
  {
   "cell_type": "code",
   "execution_count": 7,
   "metadata": {
    "collapsed": false
   },
   "outputs": [
    {
     "name": "stdout",
     "output_type": "stream",
     "text": [
      "5 6 7\n",
      "3 6 10\n",
      "1 1\n"
     ]
    }
   ],
   "source": [
    "import sys\n",
    "\n",
    "def solve(a0, a1, a2, b0, b1, b2):\n",
    "    alice = [a0, a1, a2]\n",
    "    bob = [b0, b1, b2]\n",
    "    n = len(alice)\n",
    "    alice_points, bob_points = 0,0\n",
    "    for i in range(0, n):\n",
    "        if alice[i] > bob[i]:\n",
    "            alice_points += 1\n",
    "        elif alice[i] < bob[i]:\n",
    "            bob_points += 1\n",
    "    return (alice_points, bob_points)\n",
    "\n",
    "a0, a1, a2 = input().strip().split(' ')\n",
    "a0, a1, a2 = [int(a0), int(a1), int(a2)]\n",
    "b0, b1, b2 = input().strip().split(' ')\n",
    "b0, b1, b2 = [int(b0), int(b1), int(b2)]\n",
    "result = solve(a0, a1, a2, b0, b1, b2)\n",
    "print (\" \".join(map(str, result)))"
   ]
  },
  {
   "cell_type": "markdown",
   "metadata": {},
   "source": [
    "---"
   ]
  },
  {
   "cell_type": "markdown",
   "metadata": {},
   "source": [
    "## [A Very Big Sum](https://www.hackerrank.com/challenges/a-very-big-sum/problem)"
   ]
  },
  {
   "cell_type": "code",
   "execution_count": 8,
   "metadata": {
    "collapsed": false
   },
   "outputs": [
    {
     "name": "stdout",
     "output_type": "stream",
     "text": [
      "5\n",
      "1000000001 1000000002 1000000003 1000000004 1000000005\n",
      "5000000015\n"
     ]
    }
   ],
   "source": [
    "import sys\n",
    "\n",
    "def aVeryBigSum(n, ar):\n",
    "    return sum(ar)\n",
    "\n",
    "n = int(input().strip())\n",
    "ar = list(map(int, input().strip().split(' ')))\n",
    "result = aVeryBigSum(n, ar)\n",
    "print(result)"
   ]
  },
  {
   "cell_type": "markdown",
   "metadata": {
    "collapsed": true
   },
   "source": [
    "---"
   ]
  },
  {
   "cell_type": "markdown",
   "metadata": {},
   "source": [
    "## [Diagonal Difference](https://www.hackerrank.com/challenges/diagonal-difference/problem)"
   ]
  },
  {
   "cell_type": "code",
   "execution_count": 2,
   "metadata": {
    "collapsed": false
   },
   "outputs": [
    {
     "name": "stdout",
     "output_type": "stream",
     "text": [
      "3\n",
      "11 2 4\n",
      "4 5 6\n",
      "10 8 -12\n",
      "15\n"
     ]
    }
   ],
   "source": [
    "import sys\n",
    "\n",
    "n = int(input().strip())\n",
    "a = []\n",
    "for a_i in range(n):\n",
    "    a_t = [int(a_temp) for a_temp in input().strip().split(' ')]\n",
    "    a.append(a_t)\n",
    "\n",
    "right, left = 0 , 0\n",
    "for i,v in enumerate(a):\n",
    "    right += v[i]\n",
    "    left += v[n-1-i]\n",
    "    \n",
    "print(abs(right - left))"
   ]
  },
  {
   "cell_type": "markdown",
   "metadata": {},
   "source": [
    "---"
   ]
  },
  {
   "cell_type": "markdown",
   "metadata": {},
   "source": [
    "## [Plus Minus](https://www.hackerrank.com/challenges/plus-minus/problem)"
   ]
  },
  {
   "cell_type": "code",
   "execution_count": 3,
   "metadata": {
    "collapsed": false
   },
   "outputs": [
    {
     "name": "stdout",
     "output_type": "stream",
     "text": [
      "6\n",
      "-4 3 -9 0 4 1\n",
      "0.500000\n",
      "0.333333\n",
      "0.166667\n"
     ]
    }
   ],
   "source": [
    "import sys\n",
    "\n",
    "\n",
    "n = int(input().strip())\n",
    "arr = [int(arr_temp) for arr_temp in input().strip().split(' ')]\n",
    "positive, negative, zero = 0, 0, 0\n",
    "for a in arr:\n",
    "    if a > 0: positive += 1\n",
    "    elif a < 0: negative += 1\n",
    "    else: zero += 1\n",
    "\n",
    "print(format(positive/n, '.6f'))\n",
    "print(format(negative/n, '.6f'))\n",
    "print(format(zero/n, '.6f'))"
   ]
  },
  {
   "cell_type": "markdown",
   "metadata": {},
   "source": [
    "---\n",
    "## [Staircase](https://www.hackerrank.com/challenges/staircase/problem)"
   ]
  },
  {
   "cell_type": "code",
   "execution_count": 4,
   "metadata": {
    "collapsed": false
   },
   "outputs": [
    {
     "name": "stdout",
     "output_type": "stream",
     "text": [
      "4\n",
      "   #\n",
      "  ##\n",
      " ###\n",
      "####\n"
     ]
    }
   ],
   "source": [
    "import sys\n",
    "\n",
    "def staircase(n):\n",
    "    for stairs in range(1, n + 1):\n",
    "        print(' ' * (n - stairs) + '#' * stairs)\n",
    "\n",
    "n = int(input().strip())\n",
    "staircase(n)"
   ]
  },
  {
   "cell_type": "markdown",
   "metadata": {},
   "source": [
    "---\n",
    "## [Mini-Max Sum](https://www.hackerrank.com/challenges/mini-max-sum/problem)"
   ]
  },
  {
   "cell_type": "code",
   "execution_count": 5,
   "metadata": {
    "collapsed": false
   },
   "outputs": [
    {
     "name": "stdout",
     "output_type": "stream",
     "text": [
      "1 2 3 4 5\n",
      "10 14\n"
     ]
    }
   ],
   "source": [
    "import sys\n",
    "\n",
    "arr = list(map(int, input().strip().split(' ')))\n",
    "arr.sort()\n",
    "print(sum(arr[:4]), sum(arr[1:]))"
   ]
  },
  {
   "cell_type": "markdown",
   "metadata": {},
   "source": [
    "---\n",
    "## [Birthday Cake Candles](https://www.hackerrank.com/challenges/birthday-cake-candles/problem)"
   ]
  },
  {
   "cell_type": "code",
   "execution_count": 6,
   "metadata": {
    "collapsed": false
   },
   "outputs": [
    {
     "name": "stdout",
     "output_type": "stream",
     "text": [
      "4\n",
      "3 2 1 3\n",
      "2\n"
     ]
    }
   ],
   "source": [
    "import sys\n",
    "\n",
    "def birthdayCakeCandles(n, ar):\n",
    "    return (ar.count(max(ar)))\n",
    "\n",
    "n = int(input().strip())\n",
    "ar = list(map(int, input().strip().split(' ')))\n",
    "result = birthdayCakeCandles(n, ar)\n",
    "print(result)"
   ]
  },
  {
   "cell_type": "markdown",
   "metadata": {},
   "source": [
    "---\n",
    "## [Time Conversion](https://www.hackerrank.com/challenges/time-conversion/problem)"
   ]
  },
  {
   "cell_type": "code",
   "execution_count": 7,
   "metadata": {
    "collapsed": false
   },
   "outputs": [
    {
     "name": "stdout",
     "output_type": "stream",
     "text": [
      "07:05:45PM\n",
      "19:05:45\n"
     ]
    }
   ],
   "source": [
    "import sys\n",
    "from time import strptime, strftime\n",
    "def timeConversion(s):\n",
    "    # Complete this function\n",
    "    return strftime(\"%H:%M:%S\", strptime(s, \"%I:%M:%S%p\"))\n",
    "\n",
    "\n",
    "s = input().strip()\n",
    "result = timeConversion(s)\n",
    "print(result)"
   ]
  }
 ],
 "metadata": {
  "anaconda-cloud": {},
  "kernelspec": {
   "display_name": "Python [conda root]",
   "language": "python",
   "name": "conda-root-py"
  },
  "language_info": {
   "codemirror_mode": {
    "name": "ipython",
    "version": 3
   },
   "file_extension": ".py",
   "mimetype": "text/x-python",
   "name": "python",
   "nbconvert_exporter": "python",
   "pygments_lexer": "ipython3",
   "version": "3.5.2"
  }
 },
 "nbformat": 4,
 "nbformat_minor": 2
}
